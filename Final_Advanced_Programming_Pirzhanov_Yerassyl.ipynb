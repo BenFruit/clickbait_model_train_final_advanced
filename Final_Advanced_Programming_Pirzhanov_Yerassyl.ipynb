{
  "nbformat": 4,
  "nbformat_minor": 0,
  "metadata": {
    "colab": {
      "provenance": []
    },
    "kernelspec": {
      "name": "python3",
      "display_name": "Python 3"
    },
    "language_info": {
      "name": "python"
    }
  },
  "cells": [
    {
      "cell_type": "code",
      "execution_count": 3,
      "metadata": {
        "id": "VZ-2QD7HxSGC",
        "outputId": "6c4de04c-bd06-4a69-c73e-4158e76ece99",
        "colab": {
          "base_uri": "https://localhost:8080/"
        }
      },
      "outputs": [
        {
          "output_type": "stream",
          "name": "stderr",
          "text": [
            "[nltk_data] Downloading package wordnet to /root/nltk_data...\n",
            "[nltk_data]   Package wordnet is already up-to-date!\n",
            "[nltk_data] Downloading package omw-1.4 to /root/nltk_data...\n",
            "[nltk_data]   Package omw-1.4 is already up-to-date!\n"
          ]
        }
      ],
      "source": [
        "import os\n",
        "import numpy as np\n",
        "import pandas as pd\n",
        "import matplotlib.pyplot as plt\n",
        "import math\n",
        "import nltk\n",
        "nltk.download('wordnet')\n",
        "nltk.download('omw-1.4')\n",
        "import re\n",
        "from nltk.tokenize import word_tokenize\n",
        "from nltk.corpus import stopwords\n",
        "from nltk.stem import WordNetLemmatizer, PorterStemmer\n",
        "from nltk.tokenize import WordPunctTokenizer\n",
        "from keras.preprocessing.text import Tokenizer\n",
        "from keras.layers import Dense, Input, LSTM, Embedding, Dropout\n",
        "from keras.models import Model, Sequential\n",
        "from sklearn.model_selection import train_test_split\n",
        "from sklearn import metrics\n",
        "from sklearn.metrics import accuracy_score, precision_score, recall_score, classification_report\n",
        "from tensorflow.keras.preprocessing.sequence import pad_sequences\n"
      ]
    },
    {
      "cell_type": "code",
      "source": [
        "data = pd.read_csv('clickbait_data.csv')\n",
        "data.shape"
      ],
      "metadata": {
        "colab": {
          "base_uri": "https://localhost:8080/"
        },
        "id": "uJ7144RLxbiW",
        "outputId": "cc9e7e86-b5d5-4f0c-be54-7e6f7c0cd4e8"
      },
      "execution_count": 4,
      "outputs": [
        {
          "output_type": "execute_result",
          "data": {
            "text/plain": [
              "(32000, 2)"
            ]
          },
          "metadata": {},
          "execution_count": 4
        }
      ]
    },
    {
      "cell_type": "code",
      "source": [
        "data"
      ],
      "metadata": {
        "colab": {
          "base_uri": "https://localhost:8080/",
          "height": 423
        },
        "id": "kGogPX-NCHqs",
        "outputId": "9286be10-fec6-4201-d890-114ecc6ef499"
      },
      "execution_count": 5,
      "outputs": [
        {
          "output_type": "execute_result",
          "data": {
            "text/plain": [
              "                                                headline  clickbait\n",
              "0                                     Should I Get Bings          1\n",
              "1          Which TV Female Friend Group Do You Belong In          1\n",
              "2      The New \"Star Wars: The Force Awakens\" Trailer...          1\n",
              "3      This Vine Of New York On \"Celebrity Big Brothe...          1\n",
              "4      A Couple Did A Stunning Photo Shoot With Their...          1\n",
              "...                                                  ...        ...\n",
              "31995  To Make Female Hearts Flutter in Iraq, Throw a...          0\n",
              "31996  British Liberal Democrat Patsy Calton, 56, die...          0\n",
              "31997  Drone smartphone app to help heart attack vict...          0\n",
              "31998  Netanyahu Urges Pope Benedict, in Israel, to D...          0\n",
              "31999  Computer Makers Prepare to Stake Bigger Claim ...          0\n",
              "\n",
              "[32000 rows x 2 columns]"
            ],
            "text/html": [
              "\n",
              "  <div id=\"df-35b596c9-645a-465c-9287-ed10c2fa2eb1\">\n",
              "    <div class=\"colab-df-container\">\n",
              "      <div>\n",
              "<style scoped>\n",
              "    .dataframe tbody tr th:only-of-type {\n",
              "        vertical-align: middle;\n",
              "    }\n",
              "\n",
              "    .dataframe tbody tr th {\n",
              "        vertical-align: top;\n",
              "    }\n",
              "\n",
              "    .dataframe thead th {\n",
              "        text-align: right;\n",
              "    }\n",
              "</style>\n",
              "<table border=\"1\" class=\"dataframe\">\n",
              "  <thead>\n",
              "    <tr style=\"text-align: right;\">\n",
              "      <th></th>\n",
              "      <th>headline</th>\n",
              "      <th>clickbait</th>\n",
              "    </tr>\n",
              "  </thead>\n",
              "  <tbody>\n",
              "    <tr>\n",
              "      <th>0</th>\n",
              "      <td>Should I Get Bings</td>\n",
              "      <td>1</td>\n",
              "    </tr>\n",
              "    <tr>\n",
              "      <th>1</th>\n",
              "      <td>Which TV Female Friend Group Do You Belong In</td>\n",
              "      <td>1</td>\n",
              "    </tr>\n",
              "    <tr>\n",
              "      <th>2</th>\n",
              "      <td>The New \"Star Wars: The Force Awakens\" Trailer...</td>\n",
              "      <td>1</td>\n",
              "    </tr>\n",
              "    <tr>\n",
              "      <th>3</th>\n",
              "      <td>This Vine Of New York On \"Celebrity Big Brothe...</td>\n",
              "      <td>1</td>\n",
              "    </tr>\n",
              "    <tr>\n",
              "      <th>4</th>\n",
              "      <td>A Couple Did A Stunning Photo Shoot With Their...</td>\n",
              "      <td>1</td>\n",
              "    </tr>\n",
              "    <tr>\n",
              "      <th>...</th>\n",
              "      <td>...</td>\n",
              "      <td>...</td>\n",
              "    </tr>\n",
              "    <tr>\n",
              "      <th>31995</th>\n",
              "      <td>To Make Female Hearts Flutter in Iraq, Throw a...</td>\n",
              "      <td>0</td>\n",
              "    </tr>\n",
              "    <tr>\n",
              "      <th>31996</th>\n",
              "      <td>British Liberal Democrat Patsy Calton, 56, die...</td>\n",
              "      <td>0</td>\n",
              "    </tr>\n",
              "    <tr>\n",
              "      <th>31997</th>\n",
              "      <td>Drone smartphone app to help heart attack vict...</td>\n",
              "      <td>0</td>\n",
              "    </tr>\n",
              "    <tr>\n",
              "      <th>31998</th>\n",
              "      <td>Netanyahu Urges Pope Benedict, in Israel, to D...</td>\n",
              "      <td>0</td>\n",
              "    </tr>\n",
              "    <tr>\n",
              "      <th>31999</th>\n",
              "      <td>Computer Makers Prepare to Stake Bigger Claim ...</td>\n",
              "      <td>0</td>\n",
              "    </tr>\n",
              "  </tbody>\n",
              "</table>\n",
              "<p>32000 rows × 2 columns</p>\n",
              "</div>\n",
              "      <button class=\"colab-df-convert\" onclick=\"convertToInteractive('df-35b596c9-645a-465c-9287-ed10c2fa2eb1')\"\n",
              "              title=\"Convert this dataframe to an interactive table.\"\n",
              "              style=\"display:none;\">\n",
              "        \n",
              "  <svg xmlns=\"http://www.w3.org/2000/svg\" height=\"24px\"viewBox=\"0 0 24 24\"\n",
              "       width=\"24px\">\n",
              "    <path d=\"M0 0h24v24H0V0z\" fill=\"none\"/>\n",
              "    <path d=\"M18.56 5.44l.94 2.06.94-2.06 2.06-.94-2.06-.94-.94-2.06-.94 2.06-2.06.94zm-11 1L8.5 8.5l.94-2.06 2.06-.94-2.06-.94L8.5 2.5l-.94 2.06-2.06.94zm10 10l.94 2.06.94-2.06 2.06-.94-2.06-.94-.94-2.06-.94 2.06-2.06.94z\"/><path d=\"M17.41 7.96l-1.37-1.37c-.4-.4-.92-.59-1.43-.59-.52 0-1.04.2-1.43.59L10.3 9.45l-7.72 7.72c-.78.78-.78 2.05 0 2.83L4 21.41c.39.39.9.59 1.41.59.51 0 1.02-.2 1.41-.59l7.78-7.78 2.81-2.81c.8-.78.8-2.07 0-2.86zM5.41 20L4 18.59l7.72-7.72 1.47 1.35L5.41 20z\"/>\n",
              "  </svg>\n",
              "      </button>\n",
              "      \n",
              "  <style>\n",
              "    .colab-df-container {\n",
              "      display:flex;\n",
              "      flex-wrap:wrap;\n",
              "      gap: 12px;\n",
              "    }\n",
              "\n",
              "    .colab-df-convert {\n",
              "      background-color: #E8F0FE;\n",
              "      border: none;\n",
              "      border-radius: 50%;\n",
              "      cursor: pointer;\n",
              "      display: none;\n",
              "      fill: #1967D2;\n",
              "      height: 32px;\n",
              "      padding: 0 0 0 0;\n",
              "      width: 32px;\n",
              "    }\n",
              "\n",
              "    .colab-df-convert:hover {\n",
              "      background-color: #E2EBFA;\n",
              "      box-shadow: 0px 1px 2px rgba(60, 64, 67, 0.3), 0px 1px 3px 1px rgba(60, 64, 67, 0.15);\n",
              "      fill: #174EA6;\n",
              "    }\n",
              "\n",
              "    [theme=dark] .colab-df-convert {\n",
              "      background-color: #3B4455;\n",
              "      fill: #D2E3FC;\n",
              "    }\n",
              "\n",
              "    [theme=dark] .colab-df-convert:hover {\n",
              "      background-color: #434B5C;\n",
              "      box-shadow: 0px 1px 3px 1px rgba(0, 0, 0, 0.15);\n",
              "      filter: drop-shadow(0px 1px 2px rgba(0, 0, 0, 0.3));\n",
              "      fill: #FFFFFF;\n",
              "    }\n",
              "  </style>\n",
              "\n",
              "      <script>\n",
              "        const buttonEl =\n",
              "          document.querySelector('#df-35b596c9-645a-465c-9287-ed10c2fa2eb1 button.colab-df-convert');\n",
              "        buttonEl.style.display =\n",
              "          google.colab.kernel.accessAllowed ? 'block' : 'none';\n",
              "\n",
              "        async function convertToInteractive(key) {\n",
              "          const element = document.querySelector('#df-35b596c9-645a-465c-9287-ed10c2fa2eb1');\n",
              "          const dataTable =\n",
              "            await google.colab.kernel.invokeFunction('convertToInteractive',\n",
              "                                                     [key], {});\n",
              "          if (!dataTable) return;\n",
              "\n",
              "          const docLinkHtml = 'Like what you see? Visit the ' +\n",
              "            '<a target=\"_blank\" href=https://colab.research.google.com/notebooks/data_table.ipynb>data table notebook</a>'\n",
              "            + ' to learn more about interactive tables.';\n",
              "          element.innerHTML = '';\n",
              "          dataTable['output_type'] = 'display_data';\n",
              "          await google.colab.output.renderOutput(dataTable, element);\n",
              "          const docLink = document.createElement('div');\n",
              "          docLink.innerHTML = docLinkHtml;\n",
              "          element.appendChild(docLink);\n",
              "        }\n",
              "      </script>\n",
              "    </div>\n",
              "  </div>\n",
              "  "
            ]
          },
          "metadata": {},
          "execution_count": 5
        }
      ]
    },
    {
      "cell_type": "code",
      "source": [
        "def lemmatizer(text):\n",
        "  text = ' '.join(PorterStemmer().stem(word) for word in text.split(' '))\n",
        "  text = ' '.join(WordNetLemmatizer().lemmatize(word) for word in text.split(' '))\n",
        "  return text\n",
        "\n",
        "def tokenizer(text):\n",
        "  text = WordPunctTokenizer().tokenize(text)\n",
        "  return text"
      ],
      "metadata": {
        "id": "J-Mcr9OSxl29"
      },
      "execution_count": 6,
      "outputs": []
    },
    {
      "cell_type": "code",
      "source": [
        "def clean(text):\n",
        "    text = text.lower()\n",
        "    text = re.sub(r'[^a-zA-Z0-9\\s]', '', text)\n",
        "    text = lemmatizer(text)\n",
        "    text = tokenizer(text)\n",
        "    return text"
      ],
      "metadata": {
        "id": "q6RQAV3gxoAt"
      },
      "execution_count": 7,
      "outputs": []
    },
    {
      "cell_type": "code",
      "source": [
        "data['clean'] = data['headline'].apply(clean)\n",
        "data"
      ],
      "metadata": {
        "colab": {
          "base_uri": "https://localhost:8080/",
          "height": 423
        },
        "id": "5-NQXu8cxr23",
        "outputId": "f727f776-3f06-42b2-a527-b17817315cb2"
      },
      "execution_count": 8,
      "outputs": [
        {
          "output_type": "execute_result",
          "data": {
            "text/plain": [
              "                                                headline  clickbait  \\\n",
              "0                                     Should I Get Bings          1   \n",
              "1          Which TV Female Friend Group Do You Belong In          1   \n",
              "2      The New \"Star Wars: The Force Awakens\" Trailer...          1   \n",
              "3      This Vine Of New York On \"Celebrity Big Brothe...          1   \n",
              "4      A Couple Did A Stunning Photo Shoot With Their...          1   \n",
              "...                                                  ...        ...   \n",
              "31995  To Make Female Hearts Flutter in Iraq, Throw a...          0   \n",
              "31996  British Liberal Democrat Patsy Calton, 56, die...          0   \n",
              "31997  Drone smartphone app to help heart attack vict...          0   \n",
              "31998  Netanyahu Urges Pope Benedict, in Israel, to D...          0   \n",
              "31999  Computer Makers Prepare to Stake Bigger Claim ...          0   \n",
              "\n",
              "                                                   clean  \n",
              "0                                 [should, i, get, bing]  \n",
              "1      [which, tv, femal, friend, group, do, you, bel...  \n",
              "2      [the, new, star, war, the, forc, awaken, trail...  \n",
              "3      [thi, vine, of, new, york, on, celebr, big, br...  \n",
              "4      [a, coupl, did, a, stun, photo, shoot, with, t...  \n",
              "...                                                  ...  \n",
              "31995  [to, make, femal, heart, flutter, in, iraq, th...  \n",
              "31996  [british, liber, democrat, patsi, calton, 56, ...  \n",
              "31997  [drone, smartphon, app, to, help, heart, attac...  \n",
              "31998  [netanyahu, urg, pope, benedict, in, israel, t...  \n",
              "31999  [comput, maker, prepar, to, stake, bigger, cla...  \n",
              "\n",
              "[32000 rows x 3 columns]"
            ],
            "text/html": [
              "\n",
              "  <div id=\"df-c6d330d8-0108-4a8a-a43a-a991fe29ef13\">\n",
              "    <div class=\"colab-df-container\">\n",
              "      <div>\n",
              "<style scoped>\n",
              "    .dataframe tbody tr th:only-of-type {\n",
              "        vertical-align: middle;\n",
              "    }\n",
              "\n",
              "    .dataframe tbody tr th {\n",
              "        vertical-align: top;\n",
              "    }\n",
              "\n",
              "    .dataframe thead th {\n",
              "        text-align: right;\n",
              "    }\n",
              "</style>\n",
              "<table border=\"1\" class=\"dataframe\">\n",
              "  <thead>\n",
              "    <tr style=\"text-align: right;\">\n",
              "      <th></th>\n",
              "      <th>headline</th>\n",
              "      <th>clickbait</th>\n",
              "      <th>clean</th>\n",
              "    </tr>\n",
              "  </thead>\n",
              "  <tbody>\n",
              "    <tr>\n",
              "      <th>0</th>\n",
              "      <td>Should I Get Bings</td>\n",
              "      <td>1</td>\n",
              "      <td>[should, i, get, bing]</td>\n",
              "    </tr>\n",
              "    <tr>\n",
              "      <th>1</th>\n",
              "      <td>Which TV Female Friend Group Do You Belong In</td>\n",
              "      <td>1</td>\n",
              "      <td>[which, tv, femal, friend, group, do, you, bel...</td>\n",
              "    </tr>\n",
              "    <tr>\n",
              "      <th>2</th>\n",
              "      <td>The New \"Star Wars: The Force Awakens\" Trailer...</td>\n",
              "      <td>1</td>\n",
              "      <td>[the, new, star, war, the, forc, awaken, trail...</td>\n",
              "    </tr>\n",
              "    <tr>\n",
              "      <th>3</th>\n",
              "      <td>This Vine Of New York On \"Celebrity Big Brothe...</td>\n",
              "      <td>1</td>\n",
              "      <td>[thi, vine, of, new, york, on, celebr, big, br...</td>\n",
              "    </tr>\n",
              "    <tr>\n",
              "      <th>4</th>\n",
              "      <td>A Couple Did A Stunning Photo Shoot With Their...</td>\n",
              "      <td>1</td>\n",
              "      <td>[a, coupl, did, a, stun, photo, shoot, with, t...</td>\n",
              "    </tr>\n",
              "    <tr>\n",
              "      <th>...</th>\n",
              "      <td>...</td>\n",
              "      <td>...</td>\n",
              "      <td>...</td>\n",
              "    </tr>\n",
              "    <tr>\n",
              "      <th>31995</th>\n",
              "      <td>To Make Female Hearts Flutter in Iraq, Throw a...</td>\n",
              "      <td>0</td>\n",
              "      <td>[to, make, femal, heart, flutter, in, iraq, th...</td>\n",
              "    </tr>\n",
              "    <tr>\n",
              "      <th>31996</th>\n",
              "      <td>British Liberal Democrat Patsy Calton, 56, die...</td>\n",
              "      <td>0</td>\n",
              "      <td>[british, liber, democrat, patsi, calton, 56, ...</td>\n",
              "    </tr>\n",
              "    <tr>\n",
              "      <th>31997</th>\n",
              "      <td>Drone smartphone app to help heart attack vict...</td>\n",
              "      <td>0</td>\n",
              "      <td>[drone, smartphon, app, to, help, heart, attac...</td>\n",
              "    </tr>\n",
              "    <tr>\n",
              "      <th>31998</th>\n",
              "      <td>Netanyahu Urges Pope Benedict, in Israel, to D...</td>\n",
              "      <td>0</td>\n",
              "      <td>[netanyahu, urg, pope, benedict, in, israel, t...</td>\n",
              "    </tr>\n",
              "    <tr>\n",
              "      <th>31999</th>\n",
              "      <td>Computer Makers Prepare to Stake Bigger Claim ...</td>\n",
              "      <td>0</td>\n",
              "      <td>[comput, maker, prepar, to, stake, bigger, cla...</td>\n",
              "    </tr>\n",
              "  </tbody>\n",
              "</table>\n",
              "<p>32000 rows × 3 columns</p>\n",
              "</div>\n",
              "      <button class=\"colab-df-convert\" onclick=\"convertToInteractive('df-c6d330d8-0108-4a8a-a43a-a991fe29ef13')\"\n",
              "              title=\"Convert this dataframe to an interactive table.\"\n",
              "              style=\"display:none;\">\n",
              "        \n",
              "  <svg xmlns=\"http://www.w3.org/2000/svg\" height=\"24px\"viewBox=\"0 0 24 24\"\n",
              "       width=\"24px\">\n",
              "    <path d=\"M0 0h24v24H0V0z\" fill=\"none\"/>\n",
              "    <path d=\"M18.56 5.44l.94 2.06.94-2.06 2.06-.94-2.06-.94-.94-2.06-.94 2.06-2.06.94zm-11 1L8.5 8.5l.94-2.06 2.06-.94-2.06-.94L8.5 2.5l-.94 2.06-2.06.94zm10 10l.94 2.06.94-2.06 2.06-.94-2.06-.94-.94-2.06-.94 2.06-2.06.94z\"/><path d=\"M17.41 7.96l-1.37-1.37c-.4-.4-.92-.59-1.43-.59-.52 0-1.04.2-1.43.59L10.3 9.45l-7.72 7.72c-.78.78-.78 2.05 0 2.83L4 21.41c.39.39.9.59 1.41.59.51 0 1.02-.2 1.41-.59l7.78-7.78 2.81-2.81c.8-.78.8-2.07 0-2.86zM5.41 20L4 18.59l7.72-7.72 1.47 1.35L5.41 20z\"/>\n",
              "  </svg>\n",
              "      </button>\n",
              "      \n",
              "  <style>\n",
              "    .colab-df-container {\n",
              "      display:flex;\n",
              "      flex-wrap:wrap;\n",
              "      gap: 12px;\n",
              "    }\n",
              "\n",
              "    .colab-df-convert {\n",
              "      background-color: #E8F0FE;\n",
              "      border: none;\n",
              "      border-radius: 50%;\n",
              "      cursor: pointer;\n",
              "      display: none;\n",
              "      fill: #1967D2;\n",
              "      height: 32px;\n",
              "      padding: 0 0 0 0;\n",
              "      width: 32px;\n",
              "    }\n",
              "\n",
              "    .colab-df-convert:hover {\n",
              "      background-color: #E2EBFA;\n",
              "      box-shadow: 0px 1px 2px rgba(60, 64, 67, 0.3), 0px 1px 3px 1px rgba(60, 64, 67, 0.15);\n",
              "      fill: #174EA6;\n",
              "    }\n",
              "\n",
              "    [theme=dark] .colab-df-convert {\n",
              "      background-color: #3B4455;\n",
              "      fill: #D2E3FC;\n",
              "    }\n",
              "\n",
              "    [theme=dark] .colab-df-convert:hover {\n",
              "      background-color: #434B5C;\n",
              "      box-shadow: 0px 1px 3px 1px rgba(0, 0, 0, 0.15);\n",
              "      filter: drop-shadow(0px 1px 2px rgba(0, 0, 0, 0.3));\n",
              "      fill: #FFFFFF;\n",
              "    }\n",
              "  </style>\n",
              "\n",
              "      <script>\n",
              "        const buttonEl =\n",
              "          document.querySelector('#df-c6d330d8-0108-4a8a-a43a-a991fe29ef13 button.colab-df-convert');\n",
              "        buttonEl.style.display =\n",
              "          google.colab.kernel.accessAllowed ? 'block' : 'none';\n",
              "\n",
              "        async function convertToInteractive(key) {\n",
              "          const element = document.querySelector('#df-c6d330d8-0108-4a8a-a43a-a991fe29ef13');\n",
              "          const dataTable =\n",
              "            await google.colab.kernel.invokeFunction('convertToInteractive',\n",
              "                                                     [key], {});\n",
              "          if (!dataTable) return;\n",
              "\n",
              "          const docLinkHtml = 'Like what you see? Visit the ' +\n",
              "            '<a target=\"_blank\" href=https://colab.research.google.com/notebooks/data_table.ipynb>data table notebook</a>'\n",
              "            + ' to learn more about interactive tables.';\n",
              "          element.innerHTML = '';\n",
              "          dataTable['output_type'] = 'display_data';\n",
              "          await google.colab.output.renderOutput(dataTable, element);\n",
              "          const docLink = document.createElement('div');\n",
              "          docLink.innerHTML = docLinkHtml;\n",
              "          element.appendChild(docLink);\n",
              "        }\n",
              "      </script>\n",
              "    </div>\n",
              "  </div>\n",
              "  "
            ]
          },
          "metadata": {},
          "execution_count": 8
        }
      ]
    },
    {
      "cell_type": "code",
      "source": [
        "data.groupby('clickbait').clickbait.count()"
      ],
      "metadata": {
        "colab": {
          "base_uri": "https://localhost:8080/"
        },
        "id": "yNOTQFU_Cd7-",
        "outputId": "97067629-574f-4c7d-efc6-ec9dc2479f81"
      },
      "execution_count": 9,
      "outputs": [
        {
          "output_type": "execute_result",
          "data": {
            "text/plain": [
              "clickbait\n",
              "0    16001\n",
              "1    15999\n",
              "Name: clickbait, dtype: int64"
            ]
          },
          "metadata": {},
          "execution_count": 9
        }
      ]
    },
    {
      "cell_type": "code",
      "source": [
        "max_features = 1000\n",
        "tokenize=Tokenizer(num_words=max_features,split=' ')\n",
        "tokenize.fit_on_texts(data['clean'])\n",
        "X = tokenize.texts_to_sequences(data['clean'])\n",
        "X = pad_sequences(X)"
      ],
      "metadata": {
        "id": "gNhEzlzLyeQ0"
      },
      "execution_count": 10,
      "outputs": []
    },
    {
      "cell_type": "code",
      "source": [
        "X_train, X_test, y_train, y_test = train_test_split(X, data['clickbait'], test_size = 0.2)\n"
      ],
      "metadata": {
        "id": "_WWYavrA0PYX"
      },
      "execution_count": 11,
      "outputs": []
    },
    {
      "cell_type": "code",
      "source": [
        "max_features = 1000\n",
        "embed_dim = 10\n",
        "\n",
        "lstm_model = Sequential()\n",
        "lstm_model.add(Embedding(max_features, embed_dim, input_length = X_train.shape[1]))\n",
        "lstm_model.add(LSTM(units=50, input_shape=(X_train.shape[1], 1), activation='relu', return_sequences=False))\n",
        "lstm_model.add(Dropout(0.3))\n",
        "lstm_model.add(Dense(1, activation='sigmoid'))\n",
        "\n",
        "lstm_model.compile(loss = 'binary_crossentropy', optimizer='adam' , metrics = ['accuracy', 'Precision', 'Recall'])"
      ],
      "metadata": {
        "id": "vWRw8WkK0lSo"
      },
      "execution_count": 12,
      "outputs": []
    },
    {
      "cell_type": "code",
      "source": [
        "lstm_model.fit(X_train, y_train, epochs = 8, batch_size=100, validation_data=(X_test, y_test))\n"
      ],
      "metadata": {
        "colab": {
          "base_uri": "https://localhost:8080/"
        },
        "id": "C-F72BJa0zm4",
        "outputId": "28ad6abb-207c-4e52-d38b-9e3bf622dcd4"
      },
      "execution_count": 13,
      "outputs": [
        {
          "output_type": "stream",
          "name": "stdout",
          "text": [
            "Epoch 1/8\n",
            "256/256 [==============================] - 10s 30ms/step - loss: 0.2756 - accuracy: 0.9004 - precision: 0.8941 - recall: 0.9076 - val_loss: 0.1279 - val_accuracy: 0.9522 - val_precision: 0.9675 - val_recall: 0.9371\n",
            "Epoch 2/8\n",
            "256/256 [==============================] - 6s 22ms/step - loss: 0.1087 - accuracy: 0.9630 - precision: 0.9707 - recall: 0.9545 - val_loss: 0.1071 - val_accuracy: 0.9614 - val_precision: 0.9737 - val_recall: 0.9494\n",
            "Epoch 3/8\n",
            "256/256 [==============================] - 7s 26ms/step - loss: 0.0916 - accuracy: 0.9680 - precision: 0.9731 - recall: 0.9624 - val_loss: 0.1083 - val_accuracy: 0.9627 - val_precision: 0.9735 - val_recall: 0.9522\n",
            "Epoch 4/8\n",
            "256/256 [==============================] - 6s 22ms/step - loss: 0.0848 - accuracy: 0.9709 - precision: 0.9747 - recall: 0.9667 - val_loss: 0.1091 - val_accuracy: 0.9638 - val_precision: 0.9691 - val_recall: 0.9590\n",
            "Epoch 5/8\n",
            "256/256 [==============================] - 7s 27ms/step - loss: 0.0805 - accuracy: 0.9723 - precision: 0.9762 - recall: 0.9681 - val_loss: 0.1088 - val_accuracy: 0.9617 - val_precision: 0.9829 - val_recall: 0.9408\n",
            "Epoch 6/8\n",
            "256/256 [==============================] - 6s 22ms/step - loss: 0.0784 - accuracy: 0.9733 - precision: 0.9766 - recall: 0.9697 - val_loss: 0.1002 - val_accuracy: 0.9636 - val_precision: 0.9703 - val_recall: 0.9574\n",
            "Epoch 7/8\n",
            "256/256 [==============================] - 7s 27ms/step - loss: 0.0744 - accuracy: 0.9747 - precision: 0.9775 - recall: 0.9716 - val_loss: 0.1045 - val_accuracy: 0.9623 - val_precision: 0.9768 - val_recall: 0.9482\n",
            "Epoch 8/8\n",
            "256/256 [==============================] - 6s 22ms/step - loss: 0.0736 - accuracy: 0.9747 - precision: 0.9781 - recall: 0.9709 - val_loss: 0.1088 - val_accuracy: 0.9619 - val_precision: 0.9667 - val_recall: 0.9577\n"
          ]
        },
        {
          "output_type": "execute_result",
          "data": {
            "text/plain": [
              "<keras.callbacks.History at 0x7f718285c820>"
            ]
          },
          "metadata": {},
          "execution_count": 13
        }
      ]
    },
    {
      "cell_type": "code",
      "source": [
        "y_pred = lstm_model.predict(X_test)\n",
        "scores = lstm_model.evaluate(X_test, y_test, verbose=0)\n",
        "print(\"Accuracy:\", scores[1])\n",
        "print(\"Precision: \", scores[2])\n",
        "print(\"Recall: \", scores[3])"
      ],
      "metadata": {
        "colab": {
          "base_uri": "https://localhost:8080/"
        },
        "id": "V_-6tLO92Bzb",
        "outputId": "f026eb73-131f-48d9-a0d0-d8c3bebce2ef"
      },
      "execution_count": 14,
      "outputs": [
        {
          "output_type": "stream",
          "name": "stdout",
          "text": [
            "200/200 [==============================] - 1s 5ms/step\n",
            "Accuracy: 0.9618750214576721\n",
            "Precision:  0.9666770696640015\n",
            "Recall:  0.9577291011810303\n"
          ]
        }
      ]
    },
    {
      "cell_type": "code",
      "source": [],
      "metadata": {
        "id": "nBE8CLet8JvI"
      },
      "execution_count": 14,
      "outputs": []
    }
  ]
}